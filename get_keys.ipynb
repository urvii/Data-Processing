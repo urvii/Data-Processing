{
 "cells": [
  {
   "cell_type": "code",
   "execution_count": 23,
   "id": "293aaae3",
   "metadata": {},
   "outputs": [],
   "source": [
    "import pandas as pd\n",
    "import numpy as np\n",
    "import random"
   ]
  },
  {
   "cell_type": "code",
   "execution_count": 27,
   "id": "088064c8",
   "metadata": {},
   "outputs": [],
   "source": [
    "df = pd.read_csv('reference_file.csv')"
   ]
  },
  {
   "cell_type": "code",
   "execution_count": 29,
   "id": "baf1550a",
   "metadata": {},
   "outputs": [],
   "source": [
    "# df['org_unit_id'] = df['org_unit_id'].astype(str)\n",
    "# df['product_id'] = df['product_id'].astype(str)\n",
    "# df['key'] = df['org_unit_id'].str.strip().replace(' ', '_', regex=True).replace('-', '_', regex=True) + '@' + \\\n",
    "#             df['channel_id'].str.strip().replace(' ', '_', regex=True).replace('-', '_', regex=True) + '@' + \\\n",
    "#             df['product_id'].str.strip().replace(' ', '_', regex=True).replace('-', '_', regex=True)\n",
    "# df.drop(['org_unit_id','channel_id','product_id'], axis=1, inplace=True)\n",
    "df = df[['org','channel','planner']]"
   ]
  },
  {
   "cell_type": "code",
   "execution_count": 30,
   "id": "7cde1b12",
   "metadata": {},
   "outputs": [
    {
     "data": {
      "text/plain": [
       "[('user1',\n",
       "        org      channel planner\n",
       "  0    org1  Non Revenue   user1\n",
       "  1    org1  Non Revenue   user1\n",
       "  2    org1  Non Revenue   user1\n",
       "  3    org1  Non Revenue   user1\n",
       "  4    org1  Non Revenue   user1\n",
       "  ..    ...          ...     ...\n",
       "  950  org1      Revenue   user1\n",
       "  951  org1      Revenue   user1\n",
       "  955  org1      Revenue   user1\n",
       "  957  org1      Revenue   user1\n",
       "  959  org1      Revenue   user1\n",
       "  \n",
       "  [647 rows x 3 columns]),\n",
       " ('user2',\n",
       "        org      channel planner\n",
       "  11   org1  Non Revenue   user2\n",
       "  18   org1  Non Revenue   user2\n",
       "  20   org1  Non Revenue   user2\n",
       "  21   org1  Non Revenue   user2\n",
       "  22   org1  Non Revenue   user2\n",
       "  ..    ...          ...     ...\n",
       "  946  org1      Revenue   user2\n",
       "  952  org1      Revenue   user2\n",
       "  953  org1      Revenue   user2\n",
       "  954  org1      Revenue   user2\n",
       "  958  org1      Revenue   user2\n",
       "  \n",
       "  [170 rows x 3 columns]),\n",
       " ('user3',\n",
       "        org      channel planner\n",
       "  6    org1  Non Revenue   user3\n",
       "  9    org1  Non Revenue   user3\n",
       "  12   org1  Non Revenue   user3\n",
       "  27   org1  Non Revenue   user3\n",
       "  32   org1  Non Revenue   user3\n",
       "  ..    ...          ...     ...\n",
       "  938  org1      Revenue   user3\n",
       "  939  org1      Revenue   user3\n",
       "  940  org1      Revenue   user3\n",
       "  949  org1      Revenue   user3\n",
       "  956  org1      Revenue   user3\n",
       "  \n",
       "  [143 rows x 3 columns])]"
      ]
     },
     "execution_count": 30,
     "metadata": {},
     "output_type": "execute_result"
    }
   ],
   "source": [
    "df =[x for x in df.groupby(['planner'])]\n",
    "df"
   ]
  },
  {
   "cell_type": "code",
   "execution_count": null,
   "id": "6ad429d8",
   "metadata": {},
   "outputs": [],
   "source": []
  }
 ],
 "metadata": {
  "kernelspec": {
   "display_name": "Python 3",
   "language": "python",
   "name": "python3"
  },
  "language_info": {
   "codemirror_mode": {
    "name": "ipython",
    "version": 3
   },
   "file_extension": ".py",
   "mimetype": "text/x-python",
   "name": "python",
   "nbconvert_exporter": "python",
   "pygments_lexer": "ipython3",
   "version": "3.8.8"
  }
 },
 "nbformat": 4,
 "nbformat_minor": 5
}
