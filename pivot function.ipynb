{
 "cells": [
  {
   "cell_type": "code",
   "execution_count": 9,
   "id": "5b173d59",
   "metadata": {},
   "outputs": [
    {
     "name": "stdout",
     "output_type": "stream",
     "text": [
      "*****before pivot function*****\n",
      "     year  month              Volume  value\n",
      "40   2022      1   Proposed Forecast   23.0\n",
      "82   2022      1     Historical Sale    NaN\n",
      "124  2022      1  Alternate Forecast   23.0\n",
      "41   2022      2   Proposed Forecast   25.0\n",
      "83   2022      2     Historical Sale    NaN\n",
      "125  2022      2  Alternate Forecast   25.0\n",
      "*****after pivot function*****\n",
      "                   value      \n",
      "month                  1     2\n",
      "Volume                        \n",
      "Alternate Forecast  23.0  25.0\n",
      "Proposed Forecast   23.0  25.0\n"
     ]
    }
   ],
   "source": [
    "import pandas as pd\n",
    "import numpy as np\n",
    "\n",
    "chart_data = pd.read_csv('before_df.csv', index_col=0)\n",
    "column_month = ['Jan', 'Feb', 'Mar', 'Apr', 'May', 'Jun', 'Jul', 'Aug', 'Sep', 'Oct', 'Nov', 'Dec']\n",
    "chart_data['year'] = chart_data['period'].map(lambda x: str(x)[:4])\n",
    "chart_data['month'] = chart_data['period'].map(lambda x: int(str(x)[-2:]))\n",
    "chart_data = chart_data[['forecast', 'historical_sale', 'bf', 'tf', 'alternate_forecast', 'year', 'month']]\n",
    "chart_data.rename(columns={'forecast': 'Proposed Forecast','historical_sale': 'Historical Sale','alternate_forecast':'Alternate Forecast'},\n",
    "                  inplace=True)\n",
    "data_m = chart_data.melt(id_vars=['year', 'month'],\n",
    "                         value_vars=['Proposed Forecast', 'Historical Sale','Alternate Forecast'], var_name='Volume')\n",
    "data_m.sort_values(by=['year', 'month'], inplace=True)\n",
    "data_dummy = pd.DataFrame()\n",
    "\n",
    "i = \"2022\"\n",
    "sub_data = data_m[data_m['year'] == i].copy()\n",
    "\n",
    "print(\"*****before pivot function*****\")\n",
    "print(sub_data)\n",
    "\n",
    "sub_data = sub_data.pivot_table(index='Volume', columns=['month'], values=['value'])\n",
    "sub_data.dropna(how='all', axis=0, inplace=True)\n",
    "print(\"*****after pivot function*****\")\n",
    "print(sub_data)"
   ]
  },
  {
   "cell_type": "code",
   "execution_count": null,
   "id": "c2fe6e0f",
   "metadata": {},
   "outputs": [],
   "source": []
  }
 ],
 "metadata": {
  "kernelspec": {
   "display_name": "Python 3",
   "language": "python",
   "name": "python3"
  },
  "language_info": {
   "codemirror_mode": {
    "name": "ipython",
    "version": 3
   },
   "file_extension": ".py",
   "mimetype": "text/x-python",
   "name": "python",
   "nbconvert_exporter": "python",
   "pygments_lexer": "ipython3",
   "version": "3.8.8"
  }
 },
 "nbformat": 4,
 "nbformat_minor": 5
}
